{
 "cells": [
  {
   "cell_type": "code",
   "execution_count": 1,
   "metadata": {},
   "outputs": [],
   "source": [
    "import pandas as pd\n",
    "import re\n",
    "import ast\n",
    "import numpy as np\n",
    "import matplotlib.pyplot as plt\n",
    "import seaborn as sns\n",
    "from scipy.stats import levene\n",
    "import matplotlib.pyplot as plt\n",
    "import spacy\n",
    "nlp = spacy.load(\"en_core_web_lg\")"
   ]
  },
  {
   "cell_type": "code",
   "execution_count": 2,
   "metadata": {},
   "outputs": [
    {
     "data": {
      "text/html": [
       "<div>\n",
       "<style scoped>\n",
       "    .dataframe tbody tr th:only-of-type {\n",
       "        vertical-align: middle;\n",
       "    }\n",
       "\n",
       "    .dataframe tbody tr th {\n",
       "        vertical-align: top;\n",
       "    }\n",
       "\n",
       "    .dataframe thead th {\n",
       "        text-align: right;\n",
       "    }\n",
       "</style>\n",
       "<table border=\"1\" class=\"dataframe\">\n",
       "  <thead>\n",
       "    <tr style=\"text-align: right;\">\n",
       "      <th></th>\n",
       "      <th>id</th>\n",
       "      <th>translatedSet</th>\n",
       "      <th>src</th>\n",
       "      <th>tgt</th>\n",
       "    </tr>\n",
       "  </thead>\n",
       "  <tbody>\n",
       "    <tr>\n",
       "      <td>0</td>\n",
       "      <td>11492</td>\n",
       "      <td>Admin | Test Corpus Identity | Hindi -&gt; English</td>\n",
       "      <td>&amp;quot; देखो बाला भैया , मुझे क्या मिला है , एक...</td>\n",
       "      <td>NaN</td>\n",
       "    </tr>\n",
       "    <tr>\n",
       "      <td>1</td>\n",
       "      <td>11491</td>\n",
       "      <td>Admin | Test Corpus Identity | Hindi -&gt; English</td>\n",
       "      <td>&amp;quot; प्रिया ने कहा</td>\n",
       "      <td>NaN</td>\n",
       "    </tr>\n",
       "    <tr>\n",
       "      <td>2</td>\n",
       "      <td>11490</td>\n",
       "      <td>Admin | Test Corpus Identity | Hindi -&gt; English</td>\n",
       "      <td>पमबरम नाम के लट्टू , के तो जैसे कान खड़े हो गये...</td>\n",
       "      <td>NaN</td>\n",
       "    </tr>\n",
       "    <tr>\n",
       "      <td>3</td>\n",
       "      <td>11489</td>\n",
       "      <td>Admin | Test Corpus Identity | Hindi -&gt; English</td>\n",
       "      <td>अलमारी में सबसे नीचे पड़े - पड़े मैं बिलकुल उकता...</td>\n",
       "      <td>NaN</td>\n",
       "    </tr>\n",
       "    <tr>\n",
       "      <td>4</td>\n",
       "      <td>11488</td>\n",
       "      <td>Admin | Test Corpus Identity | Hindi -&gt; English</td>\n",
       "      <td>&amp;apos; बाला ने कपड़े से धूल में पड़े लट्टू को सा...</td>\n",
       "      <td>NaN</td>\n",
       "    </tr>\n",
       "  </tbody>\n",
       "</table>\n",
       "</div>"
      ],
      "text/plain": [
       "      id                                    translatedSet  \\\n",
       "0  11492  Admin | Test Corpus Identity | Hindi -> English   \n",
       "1  11491  Admin | Test Corpus Identity | Hindi -> English   \n",
       "2  11490  Admin | Test Corpus Identity | Hindi -> English   \n",
       "3  11489  Admin | Test Corpus Identity | Hindi -> English   \n",
       "4  11488  Admin | Test Corpus Identity | Hindi -> English   \n",
       "\n",
       "                                                 src  tgt  \n",
       "0  &quot; देखो बाला भैया , मुझे क्या मिला है , एक...  NaN  \n",
       "1                               &quot; प्रिया ने कहा  NaN  \n",
       "2  पमबरम नाम के लट्टू , के तो जैसे कान खड़े हो गये...  NaN  \n",
       "3  अलमारी में सबसे नीचे पड़े - पड़े मैं बिलकुल उकता...  NaN  \n",
       "4  &apos; बाला ने कपड़े से धूल में पड़े लट्टू को सा...  NaN  "
      ]
     },
     "execution_count": 2,
     "metadata": {},
     "output_type": "execute_result"
    }
   ],
   "source": [
    "trans_pairs = pd.read_csv('data/mt.translatedsentence_complete.csv')\n",
    "trans_pairs.head()"
   ]
  },
  {
   "cell_type": "code",
   "execution_count": 3,
   "metadata": {},
   "outputs": [
    {
     "data": {
      "text/html": [
       "<div>\n",
       "<style scoped>\n",
       "    .dataframe tbody tr th:only-of-type {\n",
       "        vertical-align: middle;\n",
       "    }\n",
       "\n",
       "    .dataframe tbody tr th {\n",
       "        vertical-align: top;\n",
       "    }\n",
       "\n",
       "    .dataframe thead th {\n",
       "        text-align: right;\n",
       "    }\n",
       "</style>\n",
       "<table border=\"1\" class=\"dataframe\">\n",
       "  <thead>\n",
       "    <tr style=\"text-align: right;\">\n",
       "      <th></th>\n",
       "      <th>id</th>\n",
       "      <th>translatedSet</th>\n",
       "      <th>src</th>\n",
       "      <th>tgt</th>\n",
       "    </tr>\n",
       "  </thead>\n",
       "  <tbody>\n",
       "    <tr>\n",
       "      <td>666</td>\n",
       "      <td>10826</td>\n",
       "      <td>Test User 301 | Turtle Story PE L4 | Hindi -&gt; ...</td>\n",
       "      <td>हैरान होकर मैंने अपने आसपास देखा</td>\n",
       "      <td>NaN</td>\n",
       "    </tr>\n",
       "    <tr>\n",
       "      <td>1324</td>\n",
       "      <td>10168</td>\n",
       "      <td>Test User 801 | Turtle Story MT L4 | Hindi -&gt; ...</td>\n",
       "      <td>हैरान होकर मैंने अपने आसपास देखा</td>\n",
       "      <td>I looked around with surprise .</td>\n",
       "    </tr>\n",
       "    <tr>\n",
       "      <td>1482</td>\n",
       "      <td>10010</td>\n",
       "      <td>Test User 1001 | Turtle Story MT L4 | Hindi -&gt;...</td>\n",
       "      <td>हैरान होकर मैंने अपने आसपास देखा</td>\n",
       "      <td>NaN</td>\n",
       "    </tr>\n",
       "    <tr>\n",
       "      <td>1736</td>\n",
       "      <td>9756</td>\n",
       "      <td>Test User 901 | Turtle Story MT L4 | Hindi -&gt; ...</td>\n",
       "      <td>हैरान होकर मैंने अपने आसपास देखा</td>\n",
       "      <td>Surprised I looked around me</td>\n",
       "    </tr>\n",
       "    <tr>\n",
       "      <td>1814</td>\n",
       "      <td>9640</td>\n",
       "      <td>Test User 701 | Turtle Story MT L4 | Hindi -&gt; ...</td>\n",
       "      <td>हैरान होकर मैंने अपने आसपास देखा</td>\n",
       "      <td>Surprised I looked around me</td>\n",
       "    </tr>\n",
       "    <tr>\n",
       "      <td>1855</td>\n",
       "      <td>9599</td>\n",
       "      <td>Test User 1101 | Turtle Story MT L4 | Hindi -&gt;...</td>\n",
       "      <td>हैरान होकर मैंने अपने आसपास देखा</td>\n",
       "      <td>Surprised I look around me .</td>\n",
       "    </tr>\n",
       "    <tr>\n",
       "      <td>2276</td>\n",
       "      <td>9104</td>\n",
       "      <td>Admin | Turtle Story MT L4 | Hindi -&gt; English</td>\n",
       "      <td>हैरान होकर मैंने अपने आसपास देखा</td>\n",
       "      <td>NaN</td>\n",
       "    </tr>\n",
       "    <tr>\n",
       "      <td>2629</td>\n",
       "      <td>8696</td>\n",
       "      <td>Test User 401 | Turtle Story PE L4 | Hindi -&gt; ...</td>\n",
       "      <td>हैरान होकर मैंने अपने आसपास देखा</td>\n",
       "      <td>Surprised, I looked around myself.</td>\n",
       "    </tr>\n",
       "    <tr>\n",
       "      <td>2880</td>\n",
       "      <td>8445</td>\n",
       "      <td>Test User | Turtle Story PE L4 | Hindi -&gt; English</td>\n",
       "      <td>हैरान होकर मैंने अपने आसपास देखा</td>\n",
       "      <td>Astonished, I looked around myself.</td>\n",
       "    </tr>\n",
       "    <tr>\n",
       "      <td>3211</td>\n",
       "      <td>8110</td>\n",
       "      <td>Test User 601 | Turtle Story PE L4 | Hindi -&gt; ...</td>\n",
       "      <td>हैरान होकर मैंने अपने आसपास देखा</td>\n",
       "      <td>Suddenly i looked around myself</td>\n",
       "    </tr>\n",
       "    <tr>\n",
       "      <td>3252</td>\n",
       "      <td>8069</td>\n",
       "      <td>Test User 501 | Turtle Story PE L4 | Hindi -&gt; ...</td>\n",
       "      <td>हैरान होकर मैंने अपने आसपास देखा</td>\n",
       "      <td>Surprisedly, I looked around me.</td>\n",
       "    </tr>\n",
       "    <tr>\n",
       "      <td>3488</td>\n",
       "      <td>7833</td>\n",
       "      <td>Admin | Turtle Story PE L4 | Hindi -&gt; English</td>\n",
       "      <td>हैरान होकर मैंने अपने आसपास देखा</td>\n",
       "      <td>NaN</td>\n",
       "    </tr>\n",
       "    <tr>\n",
       "      <td>5663</td>\n",
       "      <td>4848</td>\n",
       "      <td>Test User 1401 | Turtle Story BL L4 | Hindi -&gt;...</td>\n",
       "      <td>हैरान होकर मैंने अपने आसपास देखा</td>\n",
       "      <td>With anxious look I looked around me.</td>\n",
       "    </tr>\n",
       "    <tr>\n",
       "      <td>6030</td>\n",
       "      <td>4216</td>\n",
       "      <td>Test User 1601 | Turtle Story BL L4 | Hindi -&gt;...</td>\n",
       "      <td>हैरान होकर मैंने अपने आसपास देखा</td>\n",
       "      <td>I was surprised. I looked around me.</td>\n",
       "    </tr>\n",
       "    <tr>\n",
       "      <td>6243</td>\n",
       "      <td>4003</td>\n",
       "      <td>Test User 1301 | Turtle Story BL L4 | Hindi -&gt;...</td>\n",
       "      <td>हैरान होकर मैंने अपने आसपास देखा</td>\n",
       "      <td>NaN</td>\n",
       "    </tr>\n",
       "  </tbody>\n",
       "</table>\n",
       "</div>"
      ],
      "text/plain": [
       "         id                                      translatedSet  \\\n",
       "666   10826  Test User 301 | Turtle Story PE L4 | Hindi -> ...   \n",
       "1324  10168  Test User 801 | Turtle Story MT L4 | Hindi -> ...   \n",
       "1482  10010  Test User 1001 | Turtle Story MT L4 | Hindi ->...   \n",
       "1736   9756  Test User 901 | Turtle Story MT L4 | Hindi -> ...   \n",
       "1814   9640  Test User 701 | Turtle Story MT L4 | Hindi -> ...   \n",
       "1855   9599  Test User 1101 | Turtle Story MT L4 | Hindi ->...   \n",
       "2276   9104      Admin | Turtle Story MT L4 | Hindi -> English   \n",
       "2629   8696  Test User 401 | Turtle Story PE L4 | Hindi -> ...   \n",
       "2880   8445  Test User | Turtle Story PE L4 | Hindi -> English   \n",
       "3211   8110  Test User 601 | Turtle Story PE L4 | Hindi -> ...   \n",
       "3252   8069  Test User 501 | Turtle Story PE L4 | Hindi -> ...   \n",
       "3488   7833      Admin | Turtle Story PE L4 | Hindi -> English   \n",
       "5663   4848  Test User 1401 | Turtle Story BL L4 | Hindi ->...   \n",
       "6030   4216  Test User 1601 | Turtle Story BL L4 | Hindi ->...   \n",
       "6243   4003  Test User 1301 | Turtle Story BL L4 | Hindi ->...   \n",
       "\n",
       "                                   src                                    tgt  \n",
       "666   हैरान होकर मैंने अपने आसपास देखा                                    NaN  \n",
       "1324  हैरान होकर मैंने अपने आसपास देखा       I looked around with surprise .   \n",
       "1482  हैरान होकर मैंने अपने आसपास देखा                                    NaN  \n",
       "1736  हैरान होकर मैंने अपने आसपास देखा          Surprised I looked around me   \n",
       "1814  हैरान होकर मैंने अपने आसपास देखा           Surprised I looked around me  \n",
       "1855  हैरान होकर मैंने अपने आसपास देखा           Surprised I look around me .  \n",
       "2276  हैरान होकर मैंने अपने आसपास देखा                                    NaN  \n",
       "2629  हैरान होकर मैंने अपने आसपास देखा    Surprised, I looked around myself.   \n",
       "2880  हैरान होकर मैंने अपने आसपास देखा    Astonished, I looked around myself.  \n",
       "3211  हैरान होकर मैंने अपने आसपास देखा        Suddenly i looked around myself  \n",
       "3252  हैरान होकर मैंने अपने आसपास देखा       Surprisedly, I looked around me.  \n",
       "3488  हैरान होकर मैंने अपने आसपास देखा                                    NaN  \n",
       "5663  हैरान होकर मैंने अपने आसपास देखा  With anxious look I looked around me.  \n",
       "6030  हैरान होकर मैंने अपने आसपास देखा   I was surprised. I looked around me.  \n",
       "6243  हैरान होकर मैंने अपने आसपास देखा                                    NaN  "
      ]
     },
     "execution_count": 3,
     "metadata": {},
     "output_type": "execute_result"
    }
   ],
   "source": [
    "trans_pairs[trans_pairs['src'] == 'हैरान होकर मैंने अपने आसपास देखा']"
   ]
  },
  {
   "cell_type": "code",
   "execution_count": 4,
   "metadata": {},
   "outputs": [],
   "source": [
    "trans_pairs = trans_pairs.replace(np.nan, '', regex=True)\n",
    "trans_pairs = trans_pairs[trans_pairs['translatedSet'].str.contains(\"Test User\")]"
   ]
  },
  {
   "cell_type": "code",
   "execution_count": 5,
   "metadata": {},
   "outputs": [],
   "source": [
    "def break_user(x):\n",
    "    xs1 = x.split('|')\n",
    "    \n",
    "    if len(xs1) > 1:\n",
    "        return xs1[0]\n",
    "        \n",
    "def breakdown_level(x):\n",
    "    xs1 = x.split('|')\n",
    "    if len(xs1) > 1:\n",
    "        xs2 = xs1[1].split(' ')\n",
    "        xs2 = list(filter(None, xs2))\n",
    "        if len(xs2) >= 3:\n",
    "            if re.match(r\"L\\d\", xs2[-1]):\n",
    "                return xs2[-1]\n",
    "    return ''\n",
    "\n",
    "def breakdown_type(x):\n",
    "    xs1 = x.split('|')\n",
    "    if len(xs1) > 1:\n",
    "        xs2 = xs1[1].split(' ')\n",
    "        xs2 = list(filter(None, xs2))\n",
    "        if len(xs2) >= 3:\n",
    "            if re.match(r\"L\\d\", xs2[-1]):\n",
    "                return xs2[-2]\n",
    "    return ''\n",
    "\n",
    "def breakdown_story(x):\n",
    "    xs1 = x.split('|')\n",
    "    if len(xs1) > 1:\n",
    "        xs2 = xs1[1].split(' ')\n",
    "        xs2 = list(filter(None, xs2))\n",
    "        if len(xs2) >= 3:\n",
    "            if re.match(r\"L\\d\", xs2[-1]):\n",
    "                return ' '.join(xs2[:-2])\n",
    "    return ''\n",
    "\n",
    "def breakdown_direction(x):\n",
    "    xs1 = x.split('|')\n",
    "    if len(xs1) > 1:\n",
    "        return xs1[2].strip()"
   ]
  },
  {
   "cell_type": "code",
   "execution_count": 13,
   "metadata": {},
   "outputs": [],
   "source": [
    "def story_sentence_merge(x):\n",
    "    return pd.Series({'src': \"%s\" % ' '.join(x['src']).strip(),\n",
    "                    'tgt': \"%s\" % ' '.join(x['tgt']).strip(), \n",
    "                  })"
   ]
  },
  {
   "cell_type": "code",
   "execution_count": 14,
   "metadata": {},
   "outputs": [
    {
     "data": {
      "text/html": [
       "<div>\n",
       "<style scoped>\n",
       "    .dataframe tbody tr th:only-of-type {\n",
       "        vertical-align: middle;\n",
       "    }\n",
       "\n",
       "    .dataframe tbody tr th {\n",
       "        vertical-align: top;\n",
       "    }\n",
       "\n",
       "    .dataframe thead th {\n",
       "        text-align: right;\n",
       "    }\n",
       "</style>\n",
       "<table border=\"1\" class=\"dataframe\">\n",
       "  <thead>\n",
       "    <tr style=\"text-align: right;\">\n",
       "      <th></th>\n",
       "      <th>translatedSet</th>\n",
       "      <th>src</th>\n",
       "      <th>tgt</th>\n",
       "    </tr>\n",
       "  </thead>\n",
       "  <tbody>\n",
       "    <tr>\n",
       "      <td>0</td>\n",
       "      <td>Test User 1001 | A Helping Hand PE L4 | Hindi ...</td>\n",
       "      <td>थोड़ी सी मदद प्रिय जो भी हो , तुम जानती ही हो ...</td>\n",
       "      <td>Some help dear whatever happens , you know who...</td>\n",
       "    </tr>\n",
       "    <tr>\n",
       "      <td>1</td>\n",
       "      <td>Test User 1001 | All Aboard PE L2 | Hindi -&gt; E...</td>\n",
       "      <td>मुझे पीला - पीला कुछ दिख रहा है अब मेरी बारी ह...</td>\n",
       "      <td>I see something yellow Now it's my turn , said...</td>\n",
       "    </tr>\n",
       "    <tr>\n",
       "      <td>2</td>\n",
       "      <td>Test User 1001 | At Least I'm Ok BL L3 | Hindi...</td>\n",
       "      <td>खैर , हमें तो कोई दिक्कत नहीं है , जँगली बिल्ल...</td>\n",
       "      <td>Well, we don't have any problem, thought the w...</td>\n",
       "    </tr>\n",
       "    <tr>\n",
       "      <td>3</td>\n",
       "      <td>Test User 1001 | Didi and Children | Hindi -&gt; ...</td>\n",
       "      <td>एक बड़े शहर के किनारे कुछ बच्चे रहते थे उनके घर...</td>\n",
       "      <td></td>\n",
       "    </tr>\n",
       "    <tr>\n",
       "      <td>4</td>\n",
       "      <td>Test User 1001 | How to be an Otter PE L3 | Hi...</td>\n",
       "      <td>याद रखो , नदी हमेशा तुम्हारा घर रहेगी तुमको बह...</td>\n",
       "      <td>Remember , the river will always be your home ...</td>\n",
       "    </tr>\n",
       "  </tbody>\n",
       "</table>\n",
       "</div>"
      ],
      "text/plain": [
       "                                       translatedSet  \\\n",
       "0  Test User 1001 | A Helping Hand PE L4 | Hindi ...   \n",
       "1  Test User 1001 | All Aboard PE L2 | Hindi -> E...   \n",
       "2  Test User 1001 | At Least I'm Ok BL L3 | Hindi...   \n",
       "3  Test User 1001 | Didi and Children | Hindi -> ...   \n",
       "4  Test User 1001 | How to be an Otter PE L3 | Hi...   \n",
       "\n",
       "                                                 src  \\\n",
       "0  थोड़ी सी मदद प्रिय जो भी हो , तुम जानती ही हो ...   \n",
       "1  मुझे पीला - पीला कुछ दिख रहा है अब मेरी बारी ह...   \n",
       "2  खैर , हमें तो कोई दिक्कत नहीं है , जँगली बिल्ल...   \n",
       "3  एक बड़े शहर के किनारे कुछ बच्चे रहते थे उनके घर...   \n",
       "4  याद रखो , नदी हमेशा तुम्हारा घर रहेगी तुमको बह...   \n",
       "\n",
       "                                                 tgt  \n",
       "0  Some help dear whatever happens , you know who...  \n",
       "1  I see something yellow Now it's my turn , said...  \n",
       "2  Well, we don't have any problem, thought the w...  \n",
       "3                                                     \n",
       "4  Remember , the river will always be your home ...  "
      ]
     },
     "execution_count": 14,
     "metadata": {},
     "output_type": "execute_result"
    }
   ],
   "source": [
    "trans_stories = trans_pairs.groupby('translatedSet').apply(story_sentence_merge)\n",
    "# len(trans_pairs)\n",
    "# trans_pairs.head()\n",
    "trans_stories.reset_index(level=0, inplace=True)\n",
    "trans_stories.head()"
   ]
  },
  {
   "cell_type": "code",
   "execution_count": 19,
   "metadata": {},
   "outputs": [],
   "source": [
    "# len(trans_stories)"
   ]
  },
  {
   "cell_type": "code",
   "execution_count": 20,
   "metadata": {},
   "outputs": [],
   "source": [
    "trans_stories['user'] = trans_stories['translatedSet'].apply(lambda x: break_user(x))\n",
    "trans_stories['type'] = trans_stories['translatedSet'].apply(lambda x: breakdown_type(x))\n",
    "trans_stories['level'] = trans_stories['translatedSet'].apply(lambda x: breakdown_level(x))\n",
    "trans_stories['story'] = trans_stories['translatedSet'].apply(lambda x: breakdown_story(x))\n",
    "trans_stories['direction'] = trans_stories['translatedSet'].apply(lambda x: breakdown_direction(x))"
   ]
  },
  {
   "cell_type": "code",
   "execution_count": 21,
   "metadata": {},
   "outputs": [],
   "source": [
    "trans_stories[\"spacy\"] = trans_stories[\"tgt\"].apply(lambda x: nlp(x))"
   ]
  },
  {
   "cell_type": "code",
   "execution_count": 23,
   "metadata": {},
   "outputs": [],
   "source": [
    "for index, row in trans_stories.iterrows():\n",
    "    src = row[\"src\"]\n",
    "    tgt = row[\"tgt\"]\n",
    "    if tgt == '':\n",
    "        trans_stories.at[index,'score'] = 0.0\n",
    "    else:\n",
    "        spacy_main = row[\"spacy\"]\n",
    "        collect = trans_stories[trans_stories['src'] == src]\n",
    "        simi = 0.0\n",
    "        count = 0\n",
    "        for ind, ro in collect.iterrows():\n",
    "            if ro['tgt'] != '':\n",
    "                simi += spacy_main.similarity(ro[\"spacy\"])\n",
    "                count += 1\n",
    "        if count > 0:\n",
    "            trans_stories.at[index,'score'] = (simi/count)\n",
    "        else:\n",
    "            trans_stories.at[index,'score'] = simi"
   ]
  },
  {
   "cell_type": "code",
   "execution_count": 26,
   "metadata": {},
   "outputs": [],
   "source": [
    "del trans_stories[\"spacy\"]"
   ]
  },
  {
   "cell_type": "code",
   "execution_count": 27,
   "metadata": {},
   "outputs": [],
   "source": [
    "trans_stories['type'].replace('', np.nan, inplace=True)\n",
    "trans_stories.dropna(subset=['type'], inplace=True)"
   ]
  },
  {
   "cell_type": "code",
   "execution_count": 48,
   "metadata": {},
   "outputs": [],
   "source": [
    "# Copyright 2017 Google Inc. All Rights Reserved.\n",
    "#\n",
    "# Licensed under the Apache License, Version 2.0 (the \"License\");\n",
    "# you may not use this file except in compliance with the License.\n",
    "# You may obtain a copy of the License at\n",
    "#\n",
    "#     http://www.apache.org/licenses/LICENSE-2.0\n",
    "#\n",
    "# Unless required by applicable law or agreed to in writing, software\n",
    "# distributed under the License is distributed on an \"AS IS\" BASIS,\n",
    "# WITHOUT WARRANTIES OR CONDITIONS OF ANY KIND, either express or implied.\n",
    "# See the License for the specific language governing permissions and\n",
    "# limitations under the License.\n",
    "# ==============================================================================\n",
    "\n",
    "\"\"\"Python implementation of BLEU and smooth-BLEU.\n",
    "This module provides a Python implementation of BLEU and smooth-BLEU.\n",
    "Smooth BLEU is computed following the method outlined in the paper:\n",
    "Chin-Yew Lin, Franz Josef Och. ORANGE: a method for evaluating automatic\n",
    "evaluation metrics for machine translation. COLING 2004.\n",
    "\"\"\"\n",
    "\n",
    "import collections\n",
    "import math\n",
    "\n",
    "\n",
    "def _get_ngrams(segment, max_order):\n",
    "    \"\"\"Extracts all n-grams upto a given maximum order from an input segment.\n",
    "    Args:\n",
    "        segment: text segment from which n-grams will be extracted.\n",
    "        max_order: maximum length in tokens of the n-grams returned by this\n",
    "            methods.\n",
    "    Returns:\n",
    "        The Counter containing all n-grams upto max_order in segment\n",
    "        with a count of how many times each n-gram occurred.\n",
    "    \"\"\"\n",
    "    ngram_counts = collections.Counter()\n",
    "    for order in range(1, max_order + 1):\n",
    "        for i in range(0, len(segment) - order + 1):\n",
    "            ngram = tuple(segment[i:i+order])\n",
    "            ngram_counts[ngram] += 1\n",
    "    return ngram_counts\n",
    "\n",
    "\n",
    "def compute_bleu(reference_corpus, translation_corpus, max_order=4, smooth=False):\n",
    "    \"\"\"Computes BLEU score of translated segments against one or more references.\n",
    "    Args:\n",
    "        reference_corpus: list of lists of references for each translation. Each\n",
    "            reference should be tokenized into a list of tokens.\n",
    "        translation_corpus: list of translations to score. Each translation\n",
    "            should be tokenized into a list of tokens.\n",
    "        max_order: Maximum n-gram order to use when computing BLEU score.\n",
    "        smooth: Whether or not to apply Lin et al. 2004 smoothing.\n",
    "    Returns:\n",
    "        3-Tuple with the BLEU score, n-gram precisions, geometric mean of n-gram\n",
    "        precisions and brevity penalty.\n",
    "    \"\"\"\n",
    "    matches_by_order = [0] * max_order\n",
    "    possible_matches_by_order = [0] * max_order\n",
    "    reference_length = 0\n",
    "    translation_length = 0\n",
    "    for (references, translation) in zip(reference_corpus, translation_corpus):\n",
    "        reference_length += min(len(r) for r in references)\n",
    "        translation_length += len(translation)\n",
    "\n",
    "        merged_ref_ngram_counts = collections.Counter()\n",
    "        for reference in references:\n",
    "            merged_ref_ngram_counts |= _get_ngrams(reference, max_order)\n",
    "        translation_ngram_counts = _get_ngrams(translation, max_order)\n",
    "        overlap = translation_ngram_counts & merged_ref_ngram_counts\n",
    "        for ngram in overlap:\n",
    "            matches_by_order[len(ngram)-1] += overlap[ngram]\n",
    "        for order in range(1, max_order+1):\n",
    "            possible_matches = len(translation) - order + 1\n",
    "            if possible_matches > 0:\n",
    "                possible_matches_by_order[order-1] += possible_matches\n",
    "\n",
    "    precisions = [0] * max_order\n",
    "    for i in range(0, max_order):\n",
    "        if smooth:\n",
    "            precisions[i] = ((matches_by_order[i] + 1.) / (possible_matches_by_order[i] + 1.))\n",
    "        else:\n",
    "            if possible_matches_by_order[i] > 0:\n",
    "                precisions[i] = (float(matches_by_order[i]) / possible_matches_by_order[i])\n",
    "            else:\n",
    "                precisions[i] = 0.0\n",
    "\n",
    "    if min(precisions) > 0:\n",
    "        p_log_sum = sum((1. / max_order) * math.log(p) for p in precisions)\n",
    "        geo_mean = math.exp(p_log_sum)\n",
    "    else:\n",
    "        geo_mean = 0\n",
    "\n",
    "    ratio = float(translation_length) / reference_length\n",
    "\n",
    "    if ratio > 1.0:\n",
    "        bp = 1.\n",
    "    else:\n",
    "        bp = math.exp(1 - 1. / ratio)\n",
    "\n",
    "    bleu = geo_mean * bp\n",
    "\n",
    "    return (bleu, precisions, bp, ratio, translation_length, reference_length)"
   ]
  },
  {
   "cell_type": "code",
   "execution_count": 49,
   "metadata": {},
   "outputs": [
    {
     "data": {
      "text/plain": [
       "1.0"
      ]
     },
     "execution_count": 49,
     "metadata": {},
     "output_type": "execute_result"
    }
   ],
   "source": [
    "reference = [['Remember', ',', 'the', 'river', 'will', 'always', 'be', 'your', 'home', '.', 'You', 'have', 'to', 'learn', 'very', 'quickly', 'and', 'trust', 'your', 'understanding', '.', 'Maybe', 'your', 'favorite', 'sandy', 'beaches', 'will', 'disappear', ',', 'as', 'it', 'may', 'be', ',', 'they', 'may', 'reappear', 'in', 'rainy', 'season', 'the', \"river's\", 'life', 'changes', 'do', 'not', 'go', 'near', 'any', 'shining,', 'metal', 'object', 'or', 'try', 'to', 'touch', 'it', 'out', 'of', 'curiosity', 'stay', 'away', 'from', 'anything', 'that', 'does', 'not', 'live', 'in', 'the', 'river', '-', 'it', 'could', 'be', 'a', 'trap', 'to', 'catch', 'you', 'stay', 'away', 'from', 'them', 'and', 'they', 'will', 'stay', 'away', 'from', 'you', 'the', 'fishermen', 'also', 'need', 'fish', 'to', 'maintain', 'and', 'feed', 'their', 'family', 'the', 'fisherman', 'can', 'be', 'your', 'friend,', 'but', 'beware', 'of', 'his', 'net', '', \"don't\", 'disturb', 'them', 'evil', 'crocodiles', 'like', 'to', 'live', 'alone', 'there', 'will', 'be', 'large', 'herons,', 'shy', 'tortoises,', 'strange', 'looking', 'pelicans,', 'quiet', 'ducks', 'and', 'temperamental,', 'evil', 'crocodiles', 'in', 'the', 'water', 'with', 'you', '', 'there', 'will', 'be', 'other', 'living', 'beings', 'in', 'the', 'river,', 'you', 'will', 'have', 'to', 'learn', 'to', 'live', 'with', 'them', 'There', 'are', 'even', 'rocks', 'where', 'you', 'can', 'lie', 'down', 'to', 'take', 'naps.', 'There', 'is', 'sand', 'here', 'for', 'you', 'to', 'dig', 'and', 'lots', 'of', 'places', 'to', 'hide', 'The', 'river', 'is', 'also', 'a', 'place', 'for', 'you', 'to', 'play', '.', 'Listen', 'to', 'your', 'elders', ',', 'because', 'they', 'know', 'everything', 'about', 'the', 'river', 'the', 'adults', 'of', 'the', 'home', 'will', 'protect', 'the', 'kids', 'You', \"'ll\", 'also', 'protect', 'each', 'other', 'You', 'will', 'hunt', 'and', 'play', 'together', 'Like', 'a', 'family', ',', 'you', \"'ll\", 'live', 'in', 'a', 'group', 'Here', ',', 'on', 'the', 'banks', 'of', 'the', 'river', ',', 'you', 'will', 'dig', 'a', 'burrow', 'for', 'your', 'family', 'The', 'river', 'is', 'your', 'home', '.', 'But', 'remember', ',', 'never', 'eat', 'a', 'dead', 'fish', '.', 'It', \"'s\", 'not', 'easy', 'to', 'catch', 'all', 'kinds', 'of', 'fish', '.', 'there', 'are', 'some', 'which', 'even', 'have', 'whiskers', 'like', 'cat', 'you', 'will', 'also', 'see', 'fish', 'which', 'look', 'like', 'snake', 'You', \"'ll\", 'get', 'small', 'fish', 'and', 'big', 'fish', 'in', 'water', 'Slowly', ',', 'the', 'smell', 'of', 'fish', 'and', 'stinky', 'fishes', 'will', 'also', 'appeal', 'to', 'you.', \"it's\", 'important', 'to', 'know', 'about', 'fish', 'It', 'does', 'not', 'allow', 'water', 'to', 'go', 'in', 'so', 'you', 'feel', 'warm', 'even', 'when', 'you', 'swim', 'in', 'cold', 'water.', 'take', 'care', '', 'of', 'your', 'furry', 'skin', '.', 'your', 'webbed', 'feet', 'and', 'long', 'ore', 'like', 'tail', 'will', 'help', 'you', 'with', 'this', '.', 'So', 'you', 'can', 'catch', 'fish', 'and', 'avoid', 'any', 'danger', 'learn', 'to', 'swim', 'well', 'learn', 'to', 'Swim', 'Traits', 'to', 'become', 'an', 'Otter'], ['Remember', ',', 'the', 'river', 'will', 'always', 'be', 'your', 'home', '.', 'You', 'will', 'have', 'to', 'learn', 'everything', 'quickly', 'and', 'have', 'to', 'rely', 'on', 'your', 'understanding.', 'May', 'be', 'tomorrow', 'your', 'favourite', 'sand', 'beaches', 'disappear,', 'just', 'like', 'they', 'may', 'reappear', 'in', 'the', 'rainy', 'season.', 'Changes', 'happen', 'in', 'the', 'life', 'of', 'a', 'river.', 'Do', 'not', 'go', 'near', 'any', 'shining', 'metal', 'object', 'or', 'try', 'to', 'touch', 'it', 'curiously.', 'Stay', 'away', 'from', 'anything', 'that', 'does', 'not', 'live', 'in', 'the', 'river,', 'it', 'can', 'be', 'a', 'trap', 'to', 'catch', 'you.', '', 'Stay', 'away', 'from', 'them', 'and', 'then', 'they', 'will', 'stay', 'away', 'from', 'you.', 'Like', 'us,', 'fishermen', 'also', 'need', 'fish', 'for', 'the', 'maintenance', 'of', 'their', 'family.', '', 'The', 'fisherman', 'may', 'be', 'your', 'friend', 'but', 'stay', 'away', 'from', 'its', 'net.', 'Don', \"'t\", 'disturb', 'them..', 'Wicket', 'crocodiles', 'like', 'to', 'be', 'alone.', 'There', 'will', 'be', '', 'big', 'herons,', 'shy', 'turtles,', 'strange', 'looking', 'seals,', 'calm', 'ducks', 'and', 'wicked', 'crocodile', 'with', 'you', 'in', 'the', 'river.', '', 'There', 'will', 'be', 'more', 'beings', 'in', 'the', 'river', ',', 'you', 'must', 'learn', 'to', 'live', 'with', 'them', '.', 'There', 'are', 'also', 'rocks', 'on', 'which', 'you', 'can', 'take', 'nap.', 'Here', \"'s\", 'sand', 'for', 'you', 'to', 'dig', '', 'and', 'lots', 'of', 'places', 'to', 'hide.', 'The', 'river', 'is', 'your', 'playing', 'ground', 'as', 'well.', 'Listen', 'to', 'your', 'elders', ',', 'because', 'they', 'know', 'everything', 'about', 'the', 'river.', 'Elders', 'will', 'protect', 'the', 'children.', 'You', \"'ll\", 'also', 'protect', 'each', 'other.', 'You', \"'will\", 'hunt', 'and', 'play', 'together.', 'Like', 'a', 'family', ',', 'you', \"'ll\", 'stay', 'in', 'a', 'group.', 'Here', ',', 'on', 'the', 'banks', 'of', 'the', 'river', ',', 'you', 'will', 'dig', 'den', 'for', 'your', 'family.', 'The', 'river', 'is', 'your', 'home', '.', 'But', 'remember', ',', 'never', 'eat', 'a', 'dead', 'fish', '.', 'It', \"'s\", 'not', 'easy', 'to', 'catch', 'all', 'fishes', '.', 'There', 'will', 'even', 'be', 'some', 'which', 'have', 'whiskers', 'like', 'a', 'cat', '.', 'You', 'will', 'also', 'see', 'fishes', 'that', 'look', 'like', 'snake.', 'You', \"'ll\", 'find', 'small', 'and', 'big', 'fishes', 'in', 'water', '.', 'Slowly,', 'you', 'will', 'start', 'to', 'like', 'the', 'smell', 'of', 'fish', 'and', 'smelly', 'fishes', 'too.', 'It', 'is', 'necessary', 'to', 'know', 'about', 'fishes..', 'It', 'does', 'not', 'allow', 'water', 'to', 'get', 'inside,', 'so', 'that', 'you', 'feel', 'warm', 'even', 'when', 'swimming', 'in', 'cold', 'water.', '', 'Take', 'care', 'of', 'your', 'furry', 'skin.', 'For', 'this', 'your', 'webbed', 'feet', 'and', 'long', 'paddle', 'tail', 'will', 'help', 'you.', 'So', 'that', 'you', 'can', 'catch', 'fish', 'and', 'avoid', 'any', 'kind', 'of', 'danger..', 'Learn', 'to', 'swim', 'in', 'a', 'good', 'way.', 'Learn', 'swimming.', 'The', 'qualities', 'to', 'become', 'a', 'beaver.'], ['Remember,', 'the', 'river', 'will', 'always', 'be', 'your', 'home.', '', 'You', 'will', 'have', 'to', 'learn', 'these', 'very', 'fast', 'and', 'have', 'faith', 'in', 'your', 'wisdom.', '', 'It', 'is', '', 'possible', 'that', 'your', 'favourite', 'sandy', 'banks', 'disappear,', 'just', 'the', 'way', 'they', 'can', 'be', 'visible', 'again', 'in', 'the', 'rainy', 'season.', '', 'Changes', 'keep', 'on', 'happening', 'in', 'the', 'life', 'of', 'a', 'river.', '', \"Don't\", 'go', 'near', 'any', 'shining', 'metal', 'or', 'try', 'to', 'touch', 'it', 'out', 'of', 'curiosity.', '', 'Keep', 'away', 'from', 'anything', 'that', \"doesn't\", 'live', 'in', 'the', 'river,', 'it', 'may', 'be', 'a', 'trap', 'laid', 'for', 'you.', '', 'Keep', 'away', 'from', 'them', 'and', 'then', 'he', 'will', 'also', 'keep', 'way', 'from', 'you.', '', 'For', 'the', 'upkeep', 'of', 'their', 'family,', 'fishermen', 'too', 'need', 'fish', 'like', 'us.', '', 'The', 'fisherman', 'can', 'be', 'your', 'friend,', 'but', 'keep', 'away', 'from', 'his', 'net.', '', \"Don't\", 'disturb', 'them.', '', 'The', 'naughty', 'crocodiles', 'like', 'to', 'live', 'alone.', '', 'You', 'will', 'have', 'large', 'herons,', 'shy', 'tortoises,', 'strange-looking', 'pelicans,', 'quite', 'ducks', 'and', 'flamboyant', 'and', 'naughty', 'crocodiles', 'with', 'you', 'in', 'the', 'river.', '', 'There', 'will', 'be', 'other', 'living', 'beings', 'in', 'the', 'river,', 'you', 'will', 'have', 'to', 'learn', 'to', 'live', 'with', 'them.', '', 'There', 'are', 'also', 'boulders', 'on', 'which', 'you', 'can', 'have', 'a', 'nap.', '', 'Here', 'you', 'have', 'sand', 'for', 'digging,', 'many', 'places', 'to', 'hide.', '', 'The', 'river', 'is', 'also', 'your', 'playground.', '', 'Listen', 'to', 'your', 'elders,', 'because', 'they', 'know', 'everything', 'about', 'the', 'river.', '', 'The', 'elders', 'of', 'the', 'house', 'will', 'protect', 'the', 'children.', '', 'You', 'will', 'also', 'protect', 'each', 'other.', '', 'You', 'will', 'hunt', 'and', 'play', 'together.', '', 'You', 'will', 'live', 'like', 'a', 'family,', 'in', 'a', 'group.', '', 'Here,', 'on', 'the', 'bank', 'of', 'the', 'river,', 'you', 'will', 'dig', 'burrow', 'for', 'your', 'family.', '', 'The', 'river', 'is', 'your', 'house.', '', 'But', 'remember,', 'never', 'eat', 'a', 'dead', 'fish.', '', 'It', 'is', 'not', 'easy', 'to', 'catch', 'all', 'fish.', '', 'There', 'will', 'even', 'be', 'some', 'who', 'will', 'have', 'mustaches', 'like', 'cats.', '', 'You', 'will', 'also', 'see', 'such', 'fish', 'which', 'look', 'like', 'snakes.', 'You', 'will', 'find', 'big', 'and', 'small', 'fish', 'in', 'the', 'water.', '', 'By', 'and', 'by', 'you', 'will', 'start', 'liking', 'the', 'the', 'smell', 'of', 'fish', 'and', 'smelly', 'fish', 'too.', '', 'It', 'is', 'important', 'to', 'know', 'about', 'fish.', '', 'This', \"doesn't\", 'let', 'water', 'enter', 'inside', 'due', 'to', 'which', 'you', 'feel', 'warm', 'while', 'swimming', 'in', 'cold', 'water.', '', 'Take', 'care', 'of', 'your', 'furry', 'skin.', '', 'In', 'this', 'your', 'webbed', 'legs', 'and', 'long', 'oar', 'like', 'tail', 'will', 'help', 'you.', '', 'So', 'that', 'you', 'can', 'catch', 'fish', 'and', 'save', 'yourself', 'from', 'any', 'kind', 'of', 'danger.', '', 'Learn', 'to', 'swim', 'well.', '', 'Learn', 'to', 'swim.', 'The', 'qualities', 'of', 'being', 'an', 'otter.'], ['Remember,', 'the', 'river', 'will', 'always', 'be', 'your', 'home.', 'You', 'have', 'to', 'learn', 'everything', 'very', 'quickly', 'and', 'have', 'to', 'trust', 'in', 'your', 'understanding.', 'May', 'be', 'your', 'favorite', 'sandy', 'beaches', 'disappear', 'tomorrow,', 'just', 'as', 'they', 'may,', 'they',\n",
    "'start', 'appearing', 'back', 'in', 'the', 'rainy', 'season.', 'The', 'life', 'of', 'the', 'river', 'changes', 'Do', 'not', 'go', 'near', 'any', 'flashing,', 'metal', 'object', 'or', 'do', 'not', 'try', 'to', 'touch', 'it', 'with', 'curiosity.', 'Stay', 'away', 'from', 'anything', 'that', 'does', 'not', 'live', 'in', 'the', 'river', '-', 'it', 'can', 'be', 'a', 'trap', 'laid', 'to', 'catch', 'you.', 'Stay', 'away', 'from', 'them', 'and', 'then', 'they', 'will', 'stay', 'away', 'from', 'you.', 'like', 'us,', 'to', 'maintain', 'their', 'family,', 'fishermen', '', 'also', 'need', 'fishes.', 'The', 'fisherman', 'may', 'be', 'your', 'friend,', 'but', 'stay', 'away', 'from', 'his', 'net.', \"Don't\", 'bother', 'them', 'Wicked', 'crocodiles', 'like', 'to', 'be', 'alone.', 'There', 'will', 'also', 'be', 'huge', 'herons,', 'shy', 'turtles,', 'strange-looking', 'pelican,', 'quiet', 'ducks', 'and', 'wicked', 'crocodiles', 'in', 'the', 'river', 'with', 'you.', 'There', 'will', 'be', 'other', 'animals', 'in', 'the', 'river,', 'you', 'will', 'have', 'to', 'learn', 'to', 'live', 'with', 'them.', 'There', 'are', 'also', 'rocks', 'on', 'which', 'you', 'can', 'take', 'a', 'nap.', 'There', 'is', 'sand', 'for', 'you', 'to', 'dig,', 'there', 'are', 'many', 'places', 'to', 'hide', 'The', 'river', 'is', 'also', 'your', 'playground.', 'Listen', 'to', 'your', 'elders,', 'because', 'they', 'know', 'everything', 'about', 'the', 'river.', '', 'the', 'elders', 'Will', 'protect', 'the', 'children', 'of', 'the', 'house.', 'You', 'will', 'also', 'protect', 'each', 'other.', 'You', 'will', 'hunt', 'together', 'and', 'play', 'Like', 'a', 'family,', \"you'll\", 'be', 'in', 'a', 'group', 'Right', 'here,', 'on', 'the', 'banks', 'of', 'the', 'river,', 'you', 'will', 'dig', 'the', 'den', 'for', 'your', 'family', 'The', 'river', 'is', 'your', 'home', 'But', 'remember,', 'never', 'eat', 'dead', 'fish', \"It's\", 'not', 'easy', 'to', 'catch', 'all', 'the', 'fish', 'There', 'will', 'even', 'be', 'some', 'who', 'have', 'mustaches', 'like', 'a', 'cat', 'You', 'will', 'also', 'see', 'fishes', 'that', 'look', 'like', 'snakes.', 'You', 'will', 'find', 'small', 'fish', 'and', 'big', 'fish', 'in', 'the', 'water', 'Gradually', 'you', 'will', 'like', 'the', 'smell', 'of', 'fish', 'and', 'smelly', 'fish', 'too.', 'मछलियों\\xa0के\\xa0बारे\\xa0में\\xa0जानना\\xa0ज़रूरी\\xa0है', 'It', 'does', 'not', 'allow', 'water', 'to', 'enter,', 'which', 'makes', 'you', 'feel', 'warm', 'even', 'when', 'swimming', 'in', 'cold', 'water.', 'Take', 'care', 'of', 'your', 'furry', 'skin', 'In', 'this,', 'your', 'webbed', 'feet', 'and', 'long', 'paddle', 'tail', 'will', 'help', 'you.', 'So', 'that', 'you', 'can', 'catch', 'fish', 'and', 'avoid', 'any', 'kind', 'of', 'danger.', 'Learn', 'to', 'swim', 'well', 'learn', 'swimming', 'Beaver', 'Behavior'], ['remember,', 'river', 'will', 'always', 'be', 'your', 'home', 'you', 'have', 'to', 'learn', 'everything', 'fast', 'and', 'have', 'to', 'trust', 'your', 'understanding', 'maybe', 'tomorrow,', 'your', 'favorite', 'sandy', 'beaches', 'disappear,', 'and', 'they', 'might', 'start', 'appearing', 'back', 'in', 'the', 'rainy', 'season', 'river', 'life', 'changes', 'never', 'go', 'near', 'the', 'shining', 'thing,', 'ornament', 'or', 'try', 'to', 'touch', 'it', 'with', 'curiosity', 'stay', 'away', 'from', 'such', 'things', 'which', 'are', 'not', 'present', 'in', 'the', 'river', '-', 'it', 'can', 'be', 'a', 'trap', 'to', 'catch', 'you', 'stay', 'away', 'from', 'them', 'and', 'they', 'also', 'stay', 'away', 'from', 'you', 'for', 'the', 'maintenance', 'of', 'the', 'family,', 'the', 'fishermen', 'like', 'us', 'also', 'need', 'fishes', '', 'the', 'fisherman', 'can', 'be', 'your', 'friend,', 'but', 'be', 'aware', 'from', 'his', 'trap', \"don't\", 'bother', 'them', 'wicked', 'crocodiles', 'would', 'like', 'to', 'live', 'alone', 'you', 'will', 'also', 'find', 'giant', 'heron,', 'shy', 'turtles,', 'different', 'pelican,', 'silent', 'ducks', 'and', 'wicked', 'crocodiles', 'in', 'the', 'river', 'some', 'more', 'creatures', 'will', 'be', 'present', 'in', 'the', 'river,', 'you', 'should', 'learn', 'to', 'live', 'with', 'them', 'you', 'can', 'relax', 'on', 'the', 'rocks', 'as', 'well', 'you', 'can', 'find', 'here', 'sand', 'to', 'dig', 'and', 'places', 'to', 'hide', 'as', 'well', 'river', 'is', 'your', 'playground', 'as', 'well', 'listen', 'to', 'your', 'elders,', 'because', 'they', 'know', 'everything', 'about', 'the', 'rivers', '', 'we', 'will', 'protect', 'elder', 'children', 'of', 'the', 'house', 'you', 'will', 'protect', 'each', 'other', 'as', 'well', 'you', 'will', 'hunt', 'together', 'and', 'play', 'you', 'will', 'stay', 'in', 'a', 'group', 'like', 'a', 'family', 'here,', 'on', 'the', 'bank', 'of', 'the', 'river,', 'you', 'will', 'dig', 'a', 'den', 'for', 'your', 'family', 'river', 'is', 'your', 'home', 'but', 'remember,', 'never', 'eat', 'the', 'died', 'fishes', \"it's\", 'not', 'easy', 'to', 'catch', 'all', 'fishes', 'you', 'will', 'find', 'some', 'fishes', 'which', 'have', 'mustache', 'like', 'cats', 'you', 'will', 'see', 'fishes', 'which', 'are', 'like', 'snake', 'you', 'will', 'find', 'big', 'and', 'small', 'fishes', 'in', 'water', 'Slowly,', 'you', 'would', 'like', 'the', 'odor', 'of', 'fish', 'and', 'smelly', 'fishes', 'as', 'well', 'it', 'is', 'important', 'to', 'know', 'about', 'the', 'fishes', 'it', \"doesn't\", 'allow', 'water', 'inside', 'for', 'which', 'you', 'feel', 'heat', 'even', 'in', 'the', 'cool', 'water', 'while', 'swimming', '', 'take', 'care', 'of', 'your', 'fluffy', 'skin', 'in', 'this,', 'your', 'webbed', 'feet', 'and', 'long', 'padded', 'tail', 'will', 'help', 'you', 'like', 'catching', 'fish', 'and', 'escape', 'from', 'any', 'kind', 'of', 'danger', 'learn', 'to', 'swim', 'with', 'good', 'techniques', 'learn', 'to', 'swim', 'qualities', 'of', 'a', 'beaver'], ['Remember', ',', 'the', 'river', 'will', 'always', 'be', 'your', 'home', '.', 'You', 'have', 'to', 'learn', 'very', 'quickly', 'and', 'rely', 'on', 'your', 'understanding', '.', 'Your', 'favorite', 'sandy', 'beach', 'may', 'disappear', 'tomorrow', 'but', 'similarly', 'you', 'will', 'see', 'it', 'again', 'when', 'it', 'rains', '.', 'Changes', 'are', 'a', 'way', 'of', 'life', 'in', 'the', 'river', '.', 'Don', \"'t\", 'try', 'to', 'go', 'near', 'any', 'shining', ',', 'metal', 'object', 'or', 'touch', 'it', '.', 'Keep', 'away', 'from', 'anything', 'that', 'does', 'not', 'belong', 'to', 'the', 'river', ',', 'it', 'can', 'be', 'a', 'trap', 'to', 'catch', 'you', '.', 'Keep', 'away', 'from', 'them', 'and', 'they', 'will', 'stay', 'away', 'from', 'you', '.', 'Like', 'us,', 'even', 'the', 'fishermen', 'need', 'fish', 'to', 'feed', 'their', 'family', '.', 'The', 'fisherman', 'may', 'be', 'a', 'friend,', 'but', 'stay', 'away', 'from', 'his', 'net', '.', 'Don', \"'t\", 'bother', 'them', '.', 'The', 'wicked', 'crocodile', 'like', 'to', 'live', 'alone', '.', 'There', 'will', 'be', 'the', 'great', 'herons,', 'shy', 'turtles,', 'odd', 'looking', 'pelicans,', 'peaceful', 'ducks', 'and', 'the', 'naughty', 'crooked', 'crocodile', '.', 'You', 'must', 'learn', 'to', 'live', 'with', 'other', 'animals', 'in', 'the', 'river', '', '.', 'There', 'are', 'rocks', 'on', 'which', 'you', 'can', 'take', 'a', 'nap', '.', 'There', \"'s\", 'sand', 'for', 'you', 'to', 'dig,', 'and', 'lots', 'of', 'places', 'to', 'hide', '.', 'The', 'river', 'is', 'also', 'your', 'play', 'ground', '.', 'Listen', 'to', 'your', 'elders', ',', 'because', 'they', 'know', 'everything', 'about', 'the', 'river', '.', 'They', 'elders', 'will', 'protect', 'children', 'of', 'the', 'family', '.', 'You', \"'ll\", 'also', 'protect', 'each', 'other', '.', 'You', 'will', 'hunt', 'and', 'play', 'together', '.', 'Like', 'a', 'family', ',', 'you', \"'ll\", 'live', 'in', 'a', 'group.', 'Here', ',', 'on', 'the', 'banks', 'of', 'the', 'river', ',', 'you', 'can', 'dig', 'burrows', '', 'for', 'your', 'family', '.', 'The', 'river', 'is', 'your', 'home', '.', '', 'But', 'remember', ',', 'never', 'eat', 'a', 'dead', 'fish', '.', 'It', \"'s\", 'not', 'easy', 'to', 'catch', 'all', 'fish', '.', '', 'There', 'will', 'be', 'some', 'who', 'have', 'whiskers', 'like', 'cats', '.', 'You', 'will', 'even', 'see', 'fish', 'which', 'look', 'like', 'snakes', '.', 'You', \"'ll\", 'get', 'many', 'big', 'and', 'small', 'fish', 'in', 'the', 'water', '.', 'Slowly', ',', 'you', 'will', 'like', 'the', 'smell', 'of', 'fish', 'and', 'even', 'the', 'pungent', 'smelling', 'ones', '.', 'You', 'should', 'know', 'about', 'the', 'fish', '.', 'It', 'does', 'not', 'allow', 'water', 'to', 'seep', 'in', 'to', 'the', 'skin', ',', 'so', 'it', 'keeps', 'you', 'warm', 'even', 'when', 'you', 'take', 'a', 'swim', 'in', 'cold', 'water', '.', 'Take', 'care', 'of', 'your', 'fur', '.', 'Your', 'webbed', 'paws', 'and', 'long', 'curvy', 'tail', 'will', 'help', 'you', 'in', 'this', '.', 'So', 'that', 'you', 'can', 'catch', 'fish', 'and', 'avoid', 'any', 'danger', 'too.', 'Swim', 'in', 'good', 'way.', 'Learn', 'to', 'swim', '.', 'How', 'to', 'be', 'an', 'Otter?'], ['Remember,', 'the', 'river', 'will', 'always', 'be', 'your', 'home', '', 'You', 'have', 'to', 'learn', 'everything', 'very', 'quickly', 'and', 'have', 'faith', 'on', 'your', 'understanding', '', \"It's\", 'possible', 'that', 'your', 'favourite', 'sandy', 'beach', 'will', 'disappear', 'someday,', 'as', 'it', 'may', 'be', ',', \"they'll\", 'come', 'back', 'in', 'the', 'rainy', 'season', 'Changes', 'in', 'the', 'life', 'of', 'the', 'river', 'are', 'common', \"Don't\", 'go', 'near', 'to', 'a', 'shining,', 'metal', 'object', 'and', \"don't\", 'try', 'to', 'touch', 'it', 'with', 'curiosity', '', 'Keep', 'away', 'from', 'any', 'of', 'the', 'things', 'that', 'does', 'not', 'belong', 'to', 'the', 'river', ',', 'it', 'can', 'be', 'a', 'network', 'to', 'catch', 'you', '', 'Stay', 'away', 'from', 'them,', 'and', 'they', 'will', 'be', 'away', 'from', 'you', 'Just', 'like', 'us,', 'the', 'fishermen', 'also', 'need', 'fish,', 'for', 'the', 'maintenance', 'of', 'their', 'family', '', 'You', 'may', \n",
    "'be', 'friends', 'with', 'the', 'fishermen,', 'but', 'beware', 'of', 'his', 'net', \"Don't\", 'trouble', 'them', 'The', 'wicked', 'crocodiles', 'like', 'to', 'live', 'alone', '', 'With', 'you,', 'there', 'will', 'be', 'giant', 'cranes,', 'some', 'shy', 'turtles,', 'weird', 'looking', 'pelicans,', 'some', 'quite', 'ducks', 'and', 'some', 'mischievous,', 'cunning', 'crocodiles', 'in', 'the', 'river', '', 'There', 'will', 'be', 'more', 'animals', 'in', 'the', 'river,', 'you', 'must', 'learn', 'to', 'live', 'with', 'them', '', 'There', 'are', 'rocks', 'on', 'which', 'you', 'can', 'sleep', '', \"There's\", 'sand', 'for', 'you', 'to', 'dig', 'here', ',', 'and', \"there's\", 'a', 'lot', 'of', 'hiding', 'places', 'for', 'you', 'The', 'river', 'is', 'also', 'the', 'playground', 'for', 'your', 'game', '', 'Listen', 'to', 'your', 'elders,', 'because', 'they', 'know', 'everything', 'about', 'the', 'river', 'The', 'elders', 'will', 'protect', 'the', '', 'children', 'of', 'the', 'group', '', \"You'll\", 'also', 'protect', 'each', 'other', \"You're\", 'going', 'to', 'hunt', 'and', 'play', 'together', \"You'll\", 'be', 'in', 'a', 'group,', 'like', 'a', 'family', 'Here,', 'on', 'the', 'banks', 'of', 'the', 'river,', 'you', 'will', 'make', 'a', 'burrow', 'for', 'your', 'family', 'The', 'river', 'is', 'your', 'home', '', 'But', 'remember,', 'never', 'eat', 'a', 'dead', 'fish', '', \"It's\", 'not', 'easy', 'to', 'catch', 'all', 'fishes', 'Infact,', 'some', 'will', 'have', 'moustache', 'like', 'a', 'cat', 'as', 'well', '', \"You'll\", 'see', 'fishes', 'that', 'look', 'like', 'snake', '', \"You'll\", 'get', 'small', 'and', 'big', 'fishes', 'in', 'water', 'Gradually,', 'you', 'will', 'start', 'liking', 'the', 'smell', 'of', 'fish', 'and', '', 'smelly', 'fishes', 'too', \"It's\", 'important', 'to', 'know', 'about', 'fishes', 'It', 'does', 'not', 'allow', 'water', 'to', 'go', 'into', 'the', 'skin,', 'becaue', 'of', 'which', 'even', 'when', 'you', 'swim', 'in', 'cold', 'water', 'you', 'feel', 'warm', 'Take', 'care', 'of', 'your', 'furry', 'skin', 'Your', 'webbed', 'feet', 'and', 'long', 'paddle', 'tail', 'will', 'help', 'you', 'in', 'this', 'Such', 'that', 'you', 'can', 'catch', 'a', 'fish', 'and', 'avoid', 'any', 'danger', 'Learn', 'to', 'swim', 'in', 'good', 'way', 'Learn', 'to', 'swim', 'The', 'quality', 'of', 'being', 'a', 'beaver'], ['Remember,', 'the', 'river', 'is', 'always', 'your', 'home.', 'You', 'will', 'have', 'to', 'learn', 'everything', 'quickly', 'and', 'trust', 'your', 'senses.', 'It', 'can', 'happen', 'that', 'tomorrow', 'your', 'favorite', 'sandy', 'shores', 'disappear', 'and', 'just', 'like', 'that', 'it', 'can', 'happen', 'that', 'they', 'appear', 'again', 'during', 'the', 'monsoons.', '', 'The', 'life', 'in', 'river', 'keeps', 'on', 'changing.', 'Do', 'not', 'go', 'near', 'any', 'shiny', 'metal', 'object', 'or', 'do', 'not', 'try', 'to', 'touch', 'it', 'out', 'of', 'curiosity.', 'Stay', 'away', 'from', 'things', 'that', 'do', 'not', 'belong', 'to', 'the', 'river-', 'it', 'can', 'be', 'a', 'bait', 'meant', 'to', 'catch', 'you.', 'Stay', 'away', 'from', 'them', 'and', 'they', 'will', 'stay', 'away', 'from', 'you.', 'Like', 'us,', 'even', 'the', 'fishermen', 'need', 'fish', 'for', 'the', 'sustenance', 'of', 'their', 'families.', 'The', 'fishermen', 'can', 'be', 'your', 'friends', 'but', 'steer', 'clear', 'of', 'their', 'nets.', 'Do', 'not', 'bother', 'them.', 'The', 'evil', 'crocodiles', 'like', 'to', 'live', 'alone.', 'Along', 'with', 'you,', 'there', 'will', 'be', 'huge', 'herons,', 'shy', 'turtles,', 'weird', 'looking', 'pelicans,', 'quiet', 'ducks', 'and', 'temperamental', 'evil', 'crocodiles.', '', 'There', 'will', 'be', 'other', 'organisms', 'in', 'the', 'river', 'and', 'you', 'will', 'have', 'to', 'live', 'alongside', 'them.', 'There', 'are', 'rocks', 'as', 'well', 'on', 'which', 'you', 'can', 'lie', 'down', 'and', 'take', 'a', 'nap.', 'There', 'is', 'sand', 'for', 'you', 'to', 'dig', 'and', 'there', 'are', 'lots', 'of', 'places', 'to', 'hide.', 'The', 'river', 'is', 'your', 'playground', 'as', 'well.', 'Listen', 'to', 'your', 'elders', 'because', 'they', 'know', 'everything', 'about', 'the', 'river.', 'The', 'elders', 'in', 'the', 'family', 'will', 'protect', 'the', 'younger', 'ones.', 'You', 'will', 'protect', 'each', 'other', 'as', 'well.', 'You', 'will', 'hunt', 'together', 'and', 'play', 'together.', 'Like', 'a', 'family,', 'you', 'will', 'live', 'in', 'a', 'community.', 'This', 'is', 'where,', 'on', 'the', 'shore', 'of', 'the', 'river,', 'you', 'will', 'dig', 'a', 'den', 'for', 'your', 'family.', 'River', 'is', 'your', 'home.', 'But', 'remember,', 'never', 'eat', 'a', 'dead', 'fish.', \"It's\", 'not', 'easy', 'to', 'catch', 'all', 'kinds', 'of', 'fish.', 'There', 'will', 'even', 'be', 'a', 'few', 'which', 'have', 'whiskers', 'like', 'a', 'cat.', 'You', 'will', 'even', 'see', 'fish', 'that', 'look', 'like', 'a', 'snake.', 'You', 'will', 'find', 'both', 'small', 'and', 'large', 'fish', 'in', 'the', 'water.', 'Slowly', 'you', 'will', 'start', 'liking', 'the', 'smell', 'of', 'fish', 'and', 'stinky', 'fish.', 'It', 'necessary', 'to', 'have', 'good', 'knowledge', 'of', 'fish.', 'It', \"doesn't\", 'let', 'water', 'enter,', 'because', 'of', 'which', 'even', 'while', 'swimming', 'in', 'cold', 'water,', 'you', 'keep', 'warm.', 'Take', 'care', 'of', 'your', 'furry', 'skin.', 'Your', 'webbed', 'and', 'long', 'paddle', 'like', 'tail', 'will', 'help', 'you', 'with', 'this.', 'So', 'that', 'you', 'can', 'catch', 'fish', 'and', 'save', 'yourself', 'from', 'any', 'danger.', 'Learn', 'swimming', 'very', 'well.', 'Learn', 'swimming.', 'How', 'to', 'be', 'an', 'otter.']]\n",
    "test = ['Remember', ',', 'the', 'river', 'will', 'always', 'be', 'your', 'home', '.', 'You', 'have', 'to', 'learn', 'very', 'quickly', 'and', 'trust', 'your', 'understanding', '.', 'Maybe', 'your', 'favorite', 'sandy', 'beaches', 'will', 'disappear', ',', 'as', 'it', 'may', 'be', ',', 'they', 'may', 'reappear', 'in', 'rainy', 'season', 'the', \"river's\", 'life', 'changes', 'do', 'not', 'go', 'near', 'any', 'shining,', 'metal', 'object', 'or', 'try', 'to', 'touch', 'it', 'out', 'of', 'curiosity', 'stay', 'away', 'from', 'anything', 'that', 'does', 'not', 'live', 'in', 'the', 'river', '-', 'it', 'could', 'be', 'a', 'trap', 'to', 'catch', 'you', 'stay', 'away', 'from', 'them', 'and', 'they', 'will', 'stay', 'away', 'from', 'you', 'the', 'fishermen', 'also', 'need', 'fish', 'to', 'maintain', 'and', 'feed', 'their', 'family', 'the', 'fisherman', 'can', 'be', 'your', 'friend,', 'but', 'beware', 'of', 'his', 'net', '', \"don't\", 'disturb', 'them', 'evil', 'crocodiles', 'like', 'to', 'live', 'alone', 'there', 'will', 'be', 'large', 'herons,', 'shy', 'tortoises,', 'strange', 'looking', 'pelicans,', 'quiet', 'ducks', 'and', 'temperamental,', 'evil', 'crocodiles', 'in', 'the', 'water', 'with', 'you', '', 'there', 'will', 'be', 'other', 'living', 'beings', 'in', 'the', 'river,', 'you', 'will', 'have', 'to', 'learn', 'to', 'live', 'with', 'them', 'There', 'are', 'even', 'rocks', 'where', 'you', 'can', 'lie', 'down', 'to', 'take', 'naps.', 'There', 'is', 'sand', 'here', 'for', 'you', 'to', 'dig', 'and', 'lots', 'of', 'places', 'to', 'hide', 'The', 'river', 'is', 'also', 'a', 'place', 'for', 'you', 'to', 'play', '.', 'Listen', 'to', 'your', 'elders', ',', 'because', 'they', 'know', 'everything', 'about', 'the', 'river', 'the', 'adults', 'of', 'the', 'home', 'will', 'protect', 'the', 'kids', 'You', \"'ll\", 'also', 'protect', 'each', 'other', 'You', 'will', 'hunt', 'and', 'play', 'together', 'Like', 'a', 'family', ',', 'you', \"'ll\", 'live', 'in', 'a', 'group', 'Here', ',', 'on', 'the', 'banks', 'of', 'the', 'river', ',', 'you', 'will', 'dig', 'a', 'burrow', 'for', 'your', 'family', 'The', 'river', 'is', 'your', 'home', '.', 'But', 'remember', ',', 'never', 'eat', 'a', 'dead', 'fish', '.', 'It', \"'s\", 'not', 'easy', 'to', 'catch', 'all', 'kinds', 'of', 'fish', '.', 'there', 'are', 'some', 'which', 'even', 'have', 'whiskers', 'like', 'cat', 'you', 'will', 'also', 'see', 'fish', 'which', 'look', 'like', 'snake', 'You', \"'ll\", 'get', 'small', 'fish', 'and', 'big', 'fish', 'in', 'water', 'Slowly', ',', 'the', 'smell', 'of', 'fish', 'and', 'stinky', 'fishes', 'will', 'also', 'appeal', 'to', 'you.', \"it's\", 'important', 'to', 'know', 'about', 'fish', 'It', 'does', 'not', 'allow', 'water', 'to', 'go', 'in', 'so', 'you', 'feel', 'warm', 'even', 'when', 'you', 'swim', 'in', 'cold', 'water.', 'take', 'care', '', 'of', 'your', 'furry', 'skin', '.', 'your', 'webbed', 'feet', 'and', 'long', 'ore', 'like', 'tail', 'will', 'help', 'you', 'with', 'this', '.', 'So', 'you', 'can', 'catch', 'fish', 'and', 'avoid', 'any', 'danger', 'learn', 'to', 'swim', 'well', 'learn', 'to', 'Swim', 'Traits', 'to', 'become', 'an', 'Otter']\n",
    "\n",
    "compute_bleu([list(filter(None, lst)) for lst in reference], test, max_order=1)[0]"
   ]
  },
  {
   "cell_type": "code",
   "execution_count": 31,
   "metadata": {},
   "outputs": [],
   "source": [
    "trans_stories.fillna('', inplace=True)\n",
    "trans_stories = trans_stories[trans_stories['direction'] == 'Hindi -> English']"
   ]
  },
  {
   "cell_type": "code",
   "execution_count": 72,
   "metadata": {},
   "outputs": [
    {
     "data": {
      "text/plain": [
       "<matplotlib.axes._subplots.AxesSubplot at 0x7f37597e9cf8>"
      ]
     },
     "execution_count": 72,
     "metadata": {},
     "output_type": "execute_result"
    },
    {
     "data": {
      "image/png": "[encoded data removed]",
      "text/plain": [
       "<Figure size 432x288 with 1 Axes>"
      ]
     },
     "metadata": {},
     "output_type": "display_data"
    }
   ],
   "source": [
    "import seaborn as sns\n",
    "sns.set(style=\"whitegrid\")\n",
    "sns.boxplot(x=\"type\", y=\"score\", data=trans_stories[trans_stories['tgt'] != ''])"
   ]
  },
  {
   "cell_type": "code",
   "execution_count": 50,
   "metadata": {},
   "outputs": [],
   "source": [
    "for j in range(1,5):\n",
    "    for index, row in trans_stories.iterrows():\n",
    "        src = row[\"src\"]\n",
    "        tgt = row[\"tgt\"]\n",
    "        collect = trans_stories[trans_stories['src'] == src]\n",
    "        refs = []\n",
    "        if row[\"tgt\"] != '':\n",
    "            for ind, ro in collect.iterrows():\n",
    "                if ro[\"tgt\"] != '':\n",
    "                    refs.append(ro[\"tgt\"].strip().split(\" \"))\n",
    "#             print('\\n\\n')\n",
    "#             print(refs, tgt.split(\" \"))\n",
    "            trans_stories.at[index,'bleu-' + str(j)] = compute_bleu([list(filter(None, lst)) for lst in refs], tgt.split(\" \"), max_order=j, smooth=False)[0]\n",
    "        else:\n",
    "            trans_stories.at[index,'bleu-' + str(j)] = 0.0"
   ]
  },
  {
   "cell_type": "code",
   "execution_count": 81,
   "metadata": {},
   "outputs": [
    {
     "data": {
      "text/plain": [
       "[(0.97, 1.0)]"
      ]
     },
     "execution_count": 81,
     "metadata": {},
     "output_type": "execute_result"
    },
    {
     "data": {
      "image/png": "[encoded data removed]",
      "text/plain": [
       "<Figure size 432x288 with 1 Axes>"
      ]
     },
     "metadata": {},
     "output_type": "display_data"
    }
   ],
   "source": [
    "import seaborn as sns\n",
    "sns.set(style=\"whitegrid\")\n",
    "ax = sns.boxplot(x=\"type\", y=\"score\", data=trans_stories)\n",
    "ax.set(ylim=(0.970,1.0))"
   ]
  },
  {
   "cell_type": "code",
   "execution_count": 64,
   "metadata": {},
   "outputs": [
    {
     "data": {
      "text/plain": [
       "<matplotlib.axes._subplots.AxesSubplot at 0x7f37599d9978>"
      ]
     },
     "execution_count": 64,
     "metadata": {},
     "output_type": "execute_result"
    },
    {
     "data": {
      "image/png": "[encoded data removed]",
      "text/plain": [
       "<Figure size 432x288 with 1 Axes>"
      ]
     },
     "metadata": {},
     "output_type": "display_data"
    }
   ],
   "source": [
    "trans_stories.groupby(['level','type']).mean()[\"score\"].unstack().plot(title=\"Semantic Similarity\")"
   ]
  },
  {
   "cell_type": "code",
   "execution_count": 69,
   "metadata": {},
   "outputs": [
    {
     "data": {
      "text/html": [
       "<div>\n",
       "<style scoped>\n",
       "    .dataframe tbody tr th:only-of-type {\n",
       "        vertical-align: middle;\n",
       "    }\n",
       "\n",
       "    .dataframe tbody tr th {\n",
       "        vertical-align: top;\n",
       "    }\n",
       "\n",
       "    .dataframe thead th {\n",
       "        text-align: right;\n",
       "    }\n",
       "</style>\n",
       "<table border=\"1\" class=\"dataframe\">\n",
       "  <thead>\n",
       "    <tr style=\"text-align: right;\">\n",
       "      <th></th>\n",
       "      <th>translatedSet</th>\n",
       "      <th>src</th>\n",
       "      <th>tgt</th>\n",
       "      <th>user</th>\n",
       "      <th>level</th>\n",
       "      <th>story</th>\n",
       "      <th>direction</th>\n",
       "      <th>score</th>\n",
       "      <th>bleu-1</th>\n",
       "      <th>bleu-2</th>\n",
       "      <th>bleu-3</th>\n",
       "      <th>bleu-4</th>\n",
       "    </tr>\n",
       "    <tr>\n",
       "      <th>type</th>\n",
       "      <th></th>\n",
       "      <th></th>\n",
       "      <th></th>\n",
       "      <th></th>\n",
       "      <th></th>\n",
       "      <th></th>\n",
       "      <th></th>\n",
       "      <th></th>\n",
       "      <th></th>\n",
       "      <th></th>\n",
       "      <th></th>\n",
       "      <th></th>\n",
       "    </tr>\n",
       "  </thead>\n",
       "  <tbody>\n",
       "    <tr>\n",
       "      <td>BL</td>\n",
       "      <td>0.867925</td>\n",
       "      <td>0.867925</td>\n",
       "      <td>0.867925</td>\n",
       "      <td>0.867925</td>\n",
       "      <td>0.867925</td>\n",
       "      <td>0.867925</td>\n",
       "      <td>0.867925</td>\n",
       "      <td>0.867925</td>\n",
       "      <td>0.867925</td>\n",
       "      <td>0.867925</td>\n",
       "      <td>0.867925</td>\n",
       "      <td>0.867925</td>\n",
       "    </tr>\n",
       "    <tr>\n",
       "      <td>MT</td>\n",
       "      <td>0.921569</td>\n",
       "      <td>0.921569</td>\n",
       "      <td>0.921569</td>\n",
       "      <td>0.921569</td>\n",
       "      <td>0.921569</td>\n",
       "      <td>0.921569</td>\n",
       "      <td>0.921569</td>\n",
       "      <td>0.921569</td>\n",
       "      <td>0.921569</td>\n",
       "      <td>0.921569</td>\n",
       "      <td>0.921569</td>\n",
       "      <td>0.921569</td>\n",
       "    </tr>\n",
       "    <tr>\n",
       "      <td>PE</td>\n",
       "      <td>0.980392</td>\n",
       "      <td>0.980392</td>\n",
       "      <td>0.980392</td>\n",
       "      <td>0.980392</td>\n",
       "      <td>0.980392</td>\n",
       "      <td>0.980392</td>\n",
       "      <td>0.980392</td>\n",
       "      <td>0.980392</td>\n",
       "      <td>0.980392</td>\n",
       "      <td>0.980392</td>\n",
       "      <td>0.980392</td>\n",
       "      <td>0.980392</td>\n",
       "    </tr>\n",
       "  </tbody>\n",
       "</table>\n",
       "</div>"
      ],
      "text/plain": [
       "      translatedSet       src       tgt      user     level     story  \\\n",
       "type                                                                    \n",
       "BL         0.867925  0.867925  0.867925  0.867925  0.867925  0.867925   \n",
       "MT         0.921569  0.921569  0.921569  0.921569  0.921569  0.921569   \n",
       "PE         0.980392  0.980392  0.980392  0.980392  0.980392  0.980392   \n",
       "\n",
       "      direction     score    bleu-1    bleu-2    bleu-3    bleu-4  \n",
       "type                                                               \n",
       "BL     0.867925  0.867925  0.867925  0.867925  0.867925  0.867925  \n",
       "MT     0.921569  0.921569  0.921569  0.921569  0.921569  0.921569  \n",
       "PE     0.980392  0.980392  0.980392  0.980392  0.980392  0.980392  "
      ]
     },
     "execution_count": 69,
     "metadata": {},
     "output_type": "execute_result"
    }
   ],
   "source": [
    "nonblankdf = trans_stories[trans_stories['tgt'] != ''].groupby(['type']).count()\n",
    "totaldf = trans_stories.groupby(['type']).count()\n",
    "nonblankdf.divide(totaldf)"
   ]
  },
  {
   "cell_type": "code",
   "execution_count": 68,
   "metadata": {},
   "outputs": [
    {
     "data": {
      "text/plain": [
       "<matplotlib.axes._subplots.AxesSubplot at 0x7f37599b8978>"
      ]
     },
     "execution_count": 68,
     "metadata": {},
     "output_type": "execute_result"
    },
    {
     "data": {
      "image/png": "[encoded data removed]",
      "text/plain": [
       "<Figure size 432x288 with 1 Axes>"
      ]
     },
     "metadata": {},
     "output_type": "display_data"
    }
   ],
   "source": [
    "nonblankdf.divide(totaldf)[\"story\"].unstack().plot()"
   ]
  },
  {
   "cell_type": "code",
   "execution_count": 82,
   "metadata": {},
   "outputs": [],
   "source": [
    "trans_stories.to_csv('./data/story_quality.csv')"
   ]
  },
  {
   "cell_type": "code",
   "execution_count": null,
   "metadata": {},
   "outputs": [],
   "source": []
  }
 ],
 "metadata": {
  "kernelspec": {
   "display_name": "Python 3",
   "language": "python",
   "name": "python3"
  },
  "language_info": {
   "codemirror_mode": {
    "name": "ipython",
    "version": 3
   },
   "file_extension": ".py",
   "mimetype": "text/x-python",
   "name": "python",
   "nbconvert_exporter": "python",
   "pygments_lexer": "ipython3",
   "version": "3.6.8"
  }
 },
 "nbformat": 4,
 "nbformat_minor": 2
}
